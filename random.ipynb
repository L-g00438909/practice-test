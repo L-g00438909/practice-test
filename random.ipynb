{
 "cells": [
  {
   "cell_type": "markdown",
   "metadata": {},
   "source": [
    "# Random Numbers\n",
    "***"
   ]
  },
  {
   "cell_type": "markdown",
   "metadata": {},
   "source": [
    "## Prerequisites\n",
    "-\thttps://numpy.org/doc/stable/reference/random/index.html\n",
    "\n",
    "***\n"
   ]
  },
  {
   "cell_type": "code",
   "execution_count": 3,
   "metadata": {},
   "outputs": [
    {
     "name": "stdout",
     "output_type": "stream",
     "text": [
      "c:\\Users\\louis\\anaconda3\\python.exe\n"
     ]
    }
   ],
   "source": [
    "import sys\n",
    "print(sys.executable)"
   ]
  },
  {
   "cell_type": "code",
   "execution_count": 4,
   "metadata": {},
   "outputs": [
    {
     "name": "stdout",
     "output_type": "stream",
     "text": [
      "Requirement already satisfied: pandas in c:\\users\\louis\\anaconda3\\lib\\site-packages (2.1.4)\n",
      "Collecting pandas\n",
      "  Downloading pandas-2.2.2-cp311-cp311-win_amd64.whl.metadata (19 kB)\n",
      "Requirement already satisfied: numpy>=1.23.2 in c:\\users\\louis\\anaconda3\\lib\\site-packages (from pandas) (1.26.4)\n",
      "Requirement already satisfied: python-dateutil>=2.8.2 in c:\\users\\louis\\anaconda3\\lib\\site-packages (from pandas) (2.8.2)\n",
      "Requirement already satisfied: pytz>=2020.1 in c:\\users\\louis\\anaconda3\\lib\\site-packages (from pandas) (2023.3.post1)\n",
      "Requirement already satisfied: tzdata>=2022.7 in c:\\users\\louis\\anaconda3\\lib\\site-packages (from pandas) (2023.3)\n",
      "Requirement already satisfied: six>=1.5 in c:\\users\\louis\\anaconda3\\lib\\site-packages (from python-dateutil>=2.8.2->pandas) (1.16.0)\n",
      "Downloading pandas-2.2.2-cp311-cp311-win_amd64.whl (11.6 MB)\n",
      "   ---------------------------------------- 0.0/11.6 MB ? eta -:--:--\n",
      "   ---------------------------------------- 0.0/11.6 MB 653.6 kB/s eta 0:00:18\n",
      "   ---------------------------------------- 0.1/11.6 MB 980.4 kB/s eta 0:00:12\n",
      "    --------------------------------------- 0.2/11.6 MB 1.2 MB/s eta 0:00:10\n",
      "    --------------------------------------- 0.2/11.6 MB 1.3 MB/s eta 0:00:10\n",
      "   - -------------------------------------- 0.3/11.6 MB 1.4 MB/s eta 0:00:08\n",
      "   - -------------------------------------- 0.5/11.6 MB 1.8 MB/s eta 0:00:07\n",
      "   -- ------------------------------------- 0.6/11.6 MB 1.9 MB/s eta 0:00:06\n",
      "   -- ------------------------------------- 0.8/11.6 MB 2.0 MB/s eta 0:00:06\n",
      "   --- ------------------------------------ 0.9/11.6 MB 2.1 MB/s eta 0:00:06\n",
      "   --- ------------------------------------ 1.0/11.6 MB 2.0 MB/s eta 0:00:06\n",
      "   --- ------------------------------------ 1.1/11.6 MB 2.2 MB/s eta 0:00:05\n",
      "   ---- ----------------------------------- 1.2/11.6 MB 2.2 MB/s eta 0:00:05\n",
      "   ---- ----------------------------------- 1.4/11.6 MB 2.2 MB/s eta 0:00:05\n",
      "   ----- ---------------------------------- 1.6/11.6 MB 2.4 MB/s eta 0:00:05\n",
      "   ----- ---------------------------------- 1.7/11.6 MB 2.4 MB/s eta 0:00:05\n",
      "   ------ --------------------------------- 1.8/11.6 MB 2.4 MB/s eta 0:00:05\n",
      "   ------ --------------------------------- 2.0/11.6 MB 2.5 MB/s eta 0:00:04\n",
      "   ------- -------------------------------- 2.2/11.6 MB 2.5 MB/s eta 0:00:04\n",
      "   -------- ------------------------------- 2.4/11.6 MB 2.7 MB/s eta 0:00:04\n",
      "   -------- ------------------------------- 2.5/11.6 MB 2.7 MB/s eta 0:00:04\n",
      "   --------- ------------------------------ 2.7/11.6 MB 2.7 MB/s eta 0:00:04\n",
      "   ---------- ----------------------------- 3.0/11.6 MB 2.9 MB/s eta 0:00:04\n",
      "   ---------- ----------------------------- 3.1/11.6 MB 2.9 MB/s eta 0:00:03\n",
      "   ----------- ---------------------------- 3.4/11.6 MB 3.0 MB/s eta 0:00:03\n",
      "   ------------ --------------------------- 3.7/11.6 MB 3.1 MB/s eta 0:00:03\n",
      "   ------------- -------------------------- 3.9/11.6 MB 3.1 MB/s eta 0:00:03\n",
      "   -------------- ------------------------- 4.2/11.6 MB 3.2 MB/s eta 0:00:03\n",
      "   --------------- ------------------------ 4.5/11.6 MB 3.4 MB/s eta 0:00:03\n",
      "   ---------------- ----------------------- 4.8/11.6 MB 3.4 MB/s eta 0:00:02\n",
      "   ----------------- ---------------------- 4.9/11.6 MB 3.5 MB/s eta 0:00:02\n",
      "   ----------------- ---------------------- 5.2/11.6 MB 3.6 MB/s eta 0:00:02\n",
      "   ------------------- -------------------- 5.6/11.6 MB 3.7 MB/s eta 0:00:02\n",
      "   ------------------- -------------------- 5.7/11.6 MB 3.7 MB/s eta 0:00:02\n",
      "   --------------------- ------------------ 6.2/11.6 MB 3.9 MB/s eta 0:00:02\n",
      "   ---------------------- ----------------- 6.5/11.6 MB 3.9 MB/s eta 0:00:02\n",
      "   ----------------------- ---------------- 6.8/11.6 MB 4.0 MB/s eta 0:00:02\n",
      "   ----------------------- ---------------- 6.8/11.6 MB 4.0 MB/s eta 0:00:02\n",
      "   ----------------------- ---------------- 6.8/11.6 MB 4.0 MB/s eta 0:00:02\n",
      "   ----------------------- ---------------- 6.9/11.6 MB 3.8 MB/s eta 0:00:02\n",
      "   ------------------------ --------------- 7.1/11.6 MB 3.8 MB/s eta 0:00:02\n",
      "   ------------------------- -------------- 7.4/11.6 MB 3.8 MB/s eta 0:00:02\n",
      "   -------------------------- ------------- 7.6/11.6 MB 3.8 MB/s eta 0:00:02\n",
      "   --------------------------- ------------ 7.9/11.6 MB 3.9 MB/s eta 0:00:01\n",
      "   ---------------------------- ----------- 8.3/11.6 MB 4.0 MB/s eta 0:00:01\n",
      "   ----------------------------- ---------- 8.7/11.6 MB 4.1 MB/s eta 0:00:01\n",
      "   ------------------------------ --------- 9.0/11.6 MB 4.1 MB/s eta 0:00:01\n",
      "   ------------------------------- -------- 9.1/11.6 MB 4.1 MB/s eta 0:00:01\n",
      "   -------------------------------- ------- 9.5/11.6 MB 4.2 MB/s eta 0:00:01\n",
      "   --------------------------------- ------ 9.7/11.6 MB 4.2 MB/s eta 0:00:01\n",
      "   ---------------------------------- ----- 10.0/11.6 MB 4.2 MB/s eta 0:00:01\n",
      "   ----------------------------------- ---- 10.4/11.6 MB 4.5 MB/s eta 0:00:01\n",
      "   ------------------------------------- -- 10.8/11.6 MB 4.7 MB/s eta 0:00:01\n",
      "   -------------------------------------- - 11.2/11.6 MB 5.0 MB/s eta 0:00:01\n",
      "   ---------------------------------------  11.5/11.6 MB 5.2 MB/s eta 0:00:01\n",
      "   ---------------------------------------  11.6/11.6 MB 5.3 MB/s eta 0:00:01\n",
      "   ---------------------------------------- 11.6/11.6 MB 5.1 MB/s eta 0:00:00\n",
      "Installing collected packages: pandas\n",
      "  Attempting uninstall: pandas\n",
      "    Found existing installation: pandas 2.1.4\n",
      "    Uninstalling pandas-2.1.4:\n",
      "      Successfully uninstalled pandas-2.1.4\n",
      "Successfully installed pandas-2.2.2\n"
     ]
    }
   ],
   "source": [
    "!{sys.executable} -m pip install --upgrade pandas"
   ]
  },
  {
   "cell_type": "code",
   "execution_count": 5,
   "metadata": {},
   "outputs": [],
   "source": [
    "import pandas as pd"
   ]
  },
  {
   "cell_type": "code",
   "execution_count": 2,
   "metadata": {},
   "outputs": [],
   "source": [
    "# Numerical arrays and random numbers.\n",
    "import numpy as np\n",
    "\n",
    "# plot\n",
    "import matplotlib as plt\n"
   ]
  },
  {
   "cell_type": "markdown",
   "metadata": {},
   "source": [
    "# Generate Random Integers:\n",
    "***"
   ]
  },
  {
   "cell_type": "code",
   "execution_count": 2,
   "metadata": {},
   "outputs": [
    {
     "ename": "NameError",
     "evalue": "name 'rng' is not defined",
     "output_type": "error",
     "traceback": [
      "\u001b[1;31m---------------------------------------------------------------------------\u001b[0m",
      "\u001b[1;31mNameError\u001b[0m                                 Traceback (most recent call last)",
      "Cell \u001b[1;32mIn[2], line 2\u001b[0m\n\u001b[0;32m      1\u001b[0m \u001b[38;5;66;03m# generate an array of 5 integers uniformly over the range (0,10).\u001b[39;00m\n\u001b[1;32m----> 2\u001b[0m rng\u001b[38;5;241m.\u001b[39mintegers(low\u001b[38;5;241m=\u001b[39m\u001b[38;5;241m0\u001b[39m, high\u001b[38;5;241m=\u001b[39m\u001b[38;5;241m10\u001b[39m, size\u001b[38;5;241m=\u001b[39m\u001b[38;5;241m5\u001b[39m)\n",
      "\u001b[1;31mNameError\u001b[0m: name 'rng' is not defined"
     ]
    },
    {
     "ename": "",
     "evalue": "",
     "output_type": "error",
     "traceback": [
      "\u001b[1;31mThe Kernel crashed while executing code in the current cell or a previous cell. \n",
      "\u001b[1;31mPlease review the code in the cell(s) to identify a possible cause of the failure. \n",
      "\u001b[1;31mClick <a href='https://aka.ms/vscodeJupyterKernelCrash'>here</a> for more info. \n",
      "\u001b[1;31mView Jupyter <a href='command:jupyter.viewOutput'>log</a> for further details."
     ]
    }
   ],
   "source": [
    "# generate an array of 5 integers uniformly over the range (0,10).\n",
    "rng.integers(low=0, high=10, size=5)"
   ]
  },
  {
   "cell_type": "code",
   "execution_count": null,
   "metadata": {},
   "outputs": [],
   "source": [
    "# Generate 10,000 integers over the range(0,10).\n",
    "x=rng.integers(low=0, high=10, size=10000)"
   ]
  }
 ],
 "metadata": {
  "kernelspec": {
   "display_name": "base",
   "language": "python",
   "name": "python3"
  },
  "language_info": {
   "codemirror_mode": {
    "name": "ipython",
    "version": 3
   },
   "file_extension": ".py",
   "mimetype": "text/x-python",
   "name": "python",
   "nbconvert_exporter": "python",
   "pygments_lexer": "ipython3",
   "version": "3.11.7"
  }
 },
 "nbformat": 4,
 "nbformat_minor": 2
}
